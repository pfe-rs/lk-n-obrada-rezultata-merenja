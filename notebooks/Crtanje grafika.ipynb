{
 "cells": [
  {
   "cell_type": "code",
   "execution_count": null,
   "metadata": {},
   "outputs": [],
   "source": [
    "import numpy as np\n",
    "\n",
    "%matplotlib ipympl\n",
    "import matplotlib as mpl\n",
    "from matplotlib import pyplot as plt "
   ]
  },
  {
   "cell_type": "code",
   "execution_count": null,
   "metadata": {},
   "outputs": [],
   "source": [
    "file_name = './dataset/merenja.csv'      \n",
    "visina, inv_visine, vreme, kvadrat_veremena, greska_vremena  = np.loadtxt(file_name, delimiter = ',', skiprows = 1, usecols = (0, 1, 2,3,4), unpack = True) "
   ]
  },
  {
   "cell_type": "code",
   "execution_count": null,
   "metadata": {},
   "outputs": [],
   "source": [
    "plt.figure()\n",
    "\n",
    "plt.xlabel(r\"1/h [1/m]\", fontsize = 18) \n",
    "plt.ylabel(r\"$t^{2}$ [$s^{2}$]\", fontsize = 18) \n",
    "\n",
    "plt.scatter(inv_visine, kvadrat_veremena)\n",
    "    \n",
    "plt.show() \n",
    "plt.savefig('kvadrat_brzine.png')"
   ]
  },
  {
   "cell_type": "code",
   "execution_count": null,
   "metadata": {},
   "outputs": [],
   "source": [
    "plt.figure()\n",
    "\n",
    "plt.xlabel(r\"1/h [1/m]\", fontsize = 18) \n",
    "plt.ylabel(r\"$t^{2}$ [$s^{2}$]\", fontsize = 18) \n",
    "\n",
    "plt.errorbar(inv_visine, kvadrat_veremena,  \n",
    "    xerr=None, yerr=greska_vremena)\n",
    "    \n",
    "plt.show()\n",
    "plt.savefig('povezana_merenja.png')"
   ]
  },
  {
   "cell_type": "code",
   "execution_count": null,
   "metadata": {},
   "outputs": [],
   "source": [
    "fig = plt.figure()\n",
    "\n",
    "plt.xlabel(r\"1/h [1/m]\", fontsize = 12) \n",
    "plt.ylabel(r\"$t^{2}$ [$s^{2}$]\", fontsize = 12) \n",
    "\n",
    "plt.ylim(0.3,0.5)\n",
    "plt.xlim(2.4,3.8)\n",
    "\n",
    "plt.errorbar(inv_visine, kvadrat_veremena,  \n",
    "    xerr=None, yerr=greska_vremena, \n",
    "    linestyle = 'none', \n",
    "    color = 'red',  \n",
    "    capsize = 3, capthick = 1)\n",
    "\n",
    "m, b = np.polyfit(inv_visine, kvadrat_veremena, 1)\n",
    "plt.plot(inv_visine, m*inv_visine + b)\n",
    "\n",
    "plt.show() \n",
    "print(m, b)\n",
    "plt.savefig('prikaz_greske.png')"
   ]
  }
 ],
 "metadata": {
  "kernelspec": {
   "display_name": "Python 3 (ipykernel)",
   "language": "python",
   "name": "python3"
  },
  "language_info": {
   "codemirror_mode": {
    "name": "ipython",
    "version": 3
   },
   "file_extension": ".py",
   "mimetype": "text/x-python",
   "name": "python",
   "nbconvert_exporter": "python",
   "pygments_lexer": "ipython3",
   "version": "3.11.5"
  }
 },
 "nbformat": 4,
 "nbformat_minor": 4
}
